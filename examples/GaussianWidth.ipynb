{
 "metadata": {
  "name": "",
  "signature": "sha256:5c3d1c22d621e63a5395cb9ab44fe0b5bd3bb49f918cbf6b80aa6e720c5560df"
 },
 "nbformat": 3,
 "nbformat_minor": 0,
 "worksheets": [
  {
   "cells": [
    {
     "cell_type": "markdown",
     "metadata": {},
     "source": [
      "# Inferring the width of a 1D Gaussian\n",
      "\n",
      "The simplest possible inference problem?"
     ]
    },
    {
     "cell_type": "code",
     "collapsed": false,
     "input": [],
     "language": "python",
     "metadata": {},
     "outputs": []
    }
   ],
   "metadata": {}
  }
 ]
}